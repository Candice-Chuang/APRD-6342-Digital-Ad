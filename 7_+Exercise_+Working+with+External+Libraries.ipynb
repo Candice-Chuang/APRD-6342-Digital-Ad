{
  "nbformat": 4,
  "nbformat_minor": 0,
  "metadata": {
    "kernelspec": {
      "display_name": "Python 3",
      "language": "python",
      "name": "python3"
    },
    "language_info": {
      "codemirror_mode": {
        "name": "ipython",
        "version": 3
      },
      "file_extension": ".py",
      "mimetype": "text/x-python",
      "name": "python",
      "nbconvert_exporter": "python",
      "pygments_lexer": "ipython3",
      "version": "3.6.5"
    },
    "learntools_metadata": {
      "lesson_index": 6,
      "type": "exercise"
    },
    "colab": {
      "name": "7.+Exercise_+Working+with+External+Libraries.ipynb",
      "provenance": [],
      "include_colab_link": true
    }
  },
  "cells": [
    {
      "cell_type": "markdown",
      "metadata": {
        "id": "view-in-github",
        "colab_type": "text"
      },
      "source": [
        "<a href=\"https://colab.research.google.com/github/Candice-Chuang/APRD-6342-Digital-Ad/blob/master/7_%2BExercise_%2BWorking%2Bwith%2BExternal%2BLibraries.ipynb\" target=\"_parent\"><img src=\"https://colab.research.google.com/assets/colab-badge.svg\" alt=\"Open In Colab\"/></a>"
      ]
    },
    {
      "cell_type": "markdown",
      "metadata": {
        "id": "4ThSOP5mwHM7",
        "colab_type": "text"
      },
      "source": [
        "**[Python Micro-Course Home Page](https://www.kaggle.com/learn/python)**\n",
        "\n",
        "---\n"
      ]
    },
    {
      "cell_type": "markdown",
      "metadata": {
        "id": "Ld6pt2OSwHM-",
        "colab_type": "text"
      },
      "source": [
        "These exercises accompany the tutorial on [imports](https://www.kaggle.com/colinmorris/working-with-external-libraries).\n",
        "\n",
        "There are only four problems in this last set of exercises, but they're all pretty tricky, so be on guard! If you get stuck, don't hesitate to head to the [Learn Forum](https://kaggle.com/learn-forum) to discuss.\n",
        "\n",
        "Run the setup code below before working on the questions (and run it again if you leave this notebook and come back later)."
      ]
    },
    {
      "cell_type": "code",
      "metadata": {
        "trusted": true,
        "id": "LrgQIIr4wHM_",
        "colab_type": "code",
        "colab": {},
        "outputId": "7652ae6b-831c-48f5-eddb-562a3632dd3b"
      },
      "source": [
        "from learntools.core import binder; binder.bind(globals())\n",
        "from learntools.python.ex7 import *\n",
        "print('Setup complete.')"
      ],
      "execution_count": 0,
      "outputs": [
        {
          "output_type": "stream",
          "text": [
            "Setup complete.\n"
          ],
          "name": "stdout"
        }
      ]
    },
    {
      "cell_type": "markdown",
      "metadata": {
        "id": "GqQD9o6PwHNG",
        "colab_type": "text"
      },
      "source": [
        "# Exercises"
      ]
    },
    {
      "cell_type": "markdown",
      "metadata": {
        "id": "DCMHee00wHNJ",
        "colab_type": "text"
      },
      "source": [
        "## 1.\n",
        "\n",
        "After completing [the exercises on lists and tuples](https://www.kaggle.com/kernels/fork/1275177), Jimmy noticed that, according to his `estimate_average_slot_payout` function, the slot machines at the Learn Python Casino are actually rigged *against* the house, and are profitable to play in the long run.\n",
        "\n",
        "Starting with $200 in his pocket, Jimmy has played the slots 500 times, recording his new balance in a list after each spin. He used Python's `matplotlib` library to make a graph of his balance over time:"
      ]
    },
    {
      "cell_type": "code",
      "metadata": {
        "trusted": true,
        "id": "fa9hD_IWwHNK",
        "colab_type": "code",
        "colab": {},
        "outputId": "782ca0de-b597-424d-d1be-a69071b17a5a"
      },
      "source": [
        "# Import the jimmy_slots submodule\n",
        "from learntools.python import jimmy_slots\n",
        "# Call the get_graph() function to get Jimmy's graph\n",
        "graph = jimmy_slots.get_graph()\n",
        "graph"
      ],
      "execution_count": 0,
      "outputs": [
        {
          "output_type": "execute_result",
          "data": {
            "text/plain": [
              "<matplotlib.axes._subplots.AxesSubplot at 0x7ff09b7b7898>"
            ]
          },
          "metadata": {
            "tags": []
          },
          "execution_count": 3
        },
        {
          "output_type": "display_data",
          "data": {
            "text/plain": [
              "<Figure size 792x504 with 1 Axes>"
            ],
            "image/png": "[encoded data removed]"
          },
          "metadata": {
            "tags": [],
            "needs_background": "light"
          }
        }
      ]
    },
    {
      "cell_type": "markdown",
      "metadata": {
        "id": "LM44JErhwHNP",
        "colab_type": "text"
      },
      "source": [
        "As you can see, he's hit a bit of bad luck recently. He wants to tweet this along with some choice emojis, but, as it looks right now, his followers will probably find it confusing. He's asked if you can help him make the following changes:\n",
        "\n",
        "1. Add the title \"Results of 500 slot machine pulls\"\n",
        "2. Make the y-axis start at 0. \n",
        "3. Add the label \"Balance\" to the y-axis\n",
        "\n",
        "After calling `type(graph)` you see that Jimmy's graph is of type `matplotlib.axes._subplots.AxesSubplot`. Hm, that's a new one. By calling `dir(graph)`, you find three methods that seem like they'll be useful: `.set_title()`, `.set_ylim()`, and `.set_ylabel()`. \n",
        "\n",
        "Use these methods to complete the function `prettify_graph` according to Jimmy's requests. We've already checked off the first request for you (setting a title).\n",
        "\n",
        "(Remember: if you don't know what these methods do, use the `help()` function!)"
      ]
    },
    {
      "cell_type": "code",
      "metadata": {
        "trusted": true,
        "id": "rJePiT7YwHNQ",
        "colab_type": "code",
        "colab": {},
        "outputId": "f3644418-3644-45c3-d00a-e1725114dfbe"
      },
      "source": [
        "def prettify_graph(graph):\n",
        "    \"\"\"Modify the given graph according to Jimmy's requests: add a title, make the y-axis\n",
        "    start at 0, label the y-axis. (And, if you're feeling ambitious, format the tick marks\n",
        "    as dollar amounts using the \"$\" symbol.)\n",
        "    \"\"\"\n",
        "    graph.set_title(\"Results of 500 slot machine pulls\")\n",
        "    # Complete steps 2 and 3 here\n",
        "    graph.set_ylim(bottom=0)\n",
        "    graph.set_ylabel('Balance')\n",
        "\n",
        "graph = jimmy_slots.get_graph()\n",
        "prettify_graph(graph)\n",
        "graph"
      ],
      "execution_count": 0,
      "outputs": [
        {
          "output_type": "execute_result",
          "data": {
            "text/plain": [
              "<matplotlib.axes._subplots.AxesSubplot at 0x7ff09b5ddc18>"
            ]
          },
          "metadata": {
            "tags": []
          },
          "execution_count": 4
        },
        {
          "output_type": "display_data",
          "data": {
            "text/plain": [
              "<Figure size 792x504 with 1 Axes>"
            ],
            "image/png": "[encoded data removed]"
          },
          "metadata": {
            "tags": [],
            "needs_background": "light"
          }
        }
      ]
    },
    {
      "cell_type": "markdown",
      "metadata": {
        "id": "6emfRje5wHNU",
        "colab_type": "text"
      },
      "source": [
        "**Bonus:** Can you format the numbers on the y-axis so they look like dollar amounts? e.g. $200 instead of just 200.\n",
        "\n",
        "(We're not going to tell you what method(s) to use here. You'll need to go digging yourself with `dir(graph)` and/or `help(graph)`.)"
      ]
    },
    {
      "cell_type": "code",
      "metadata": {
        "trusted": true,
        "id": "yGJ879WkwHNV",
        "colab_type": "code",
        "colab": {},
        "outputId": "718d4809-0265-4c26-8312-f812b8a509b0"
      },
      "source": [
        "def prettify_graph(graph):\n",
        "    graph.set_title(\"Results of 500 slot machine pulls\")\n",
        "    # Make the y-axis begin at 0\n",
        "    graph.set_ylim(bottom=0)\n",
        "    # Label the y-axis\n",
        "    graph.set_ylabel(\"Balance\")\n",
        "    # Bonus: format the numbers on the y-axis as dollar amounts\n",
        "    ticks=graph.get_yticks()\n",
        "    newlab=['${}'.format(int(x)) for x in ticks]\n",
        "    graph.set_yticklabels(newlab)\n",
        "    \n",
        "graph = jimmy_slots.get_graph()\n",
        "prettify_graph(graph)\n",
        "graph"
      ],
      "execution_count": 0,
      "outputs": [
        {
          "output_type": "execute_result",
          "data": {
            "text/plain": [
              "<matplotlib.axes._subplots.AxesSubplot at 0x7ff09b753780>"
            ]
          },
          "metadata": {
            "tags": []
          },
          "execution_count": 5
        },
        {
          "output_type": "display_data",
          "data": {
            "text/plain": [
              "<Figure size 792x504 with 1 Axes>"
            ],
            "image/png": "[encoded data removed]"
          },
          "metadata": {
            "tags": [],
            "needs_background": "light"
          }
        }
      ]
    },
    {
      "cell_type": "code",
      "metadata": {
        "trusted": true,
        "id": "MCwpDfINwHNZ",
        "colab_type": "code",
        "colab": {},
        "outputId": "883349d9-64b5-4d07-9b56-094ecf652763"
      },
      "source": [
        "q1.solution()"
      ],
      "execution_count": 0,
      "outputs": [
        {
          "output_type": "display_data",
          "data": {
            "text/plain": [
              "<IPython.core.display.Javascript object>"
            ],
            "application/javascript": [
              "parent.postMessage({\"jupyterEvent\": \"custom.exercise_interaction\", \"data\": {\"interactionType\": 3, \"questionType\": 4, \"learnTutorialId\": 114, \"questionId\": \"1_JimmySlots\", \"learnToolsVersion\": \"0.3.2\", \"valueTowardsCompletion\": 0.0, \"failureMessage\": \"\", \"exceptionClass\": \"\", \"trace\": \"\", \"outcomeType\": 4}}, \"*\")"
            ]
          },
          "metadata": {
            "tags": []
          }
        },
        {
          "output_type": "display_data",
          "data": {
            "text/plain": [
              "Solution: \n",
              "```python\n",
              "def prettify_graph(graph):\n",
              "    graph.set_title(\"Results of 500 slot machine pulls\")\n",
              "    # Make the y-axis begin at 0\n",
              "    graph.set_ylim(bottom=0)\n",
              "    # Label the y-axis\n",
              "    graph.set_ylabel(\"Balance\")\n",
              "    # Bonus: format the numbers on the y-axis as dollar amounts\n",
              "    # An array of the values displayed on the y-axis (150, 175, 200, etc.)\n",
              "    ticks = graph.get_yticks()\n",
              "    # Format those values into strings beginning with dollar sign\n",
              "    new_labels = ['${}'.format(int(amt)) for amt in ticks]\n",
              "    # Set the new labels\n",
              "    graph.set_yticklabels(new_labels)\n",
              "```"
            ],
            "text/markdown": "<span style=\"color:#33cc99\">Solution:</span> \n```python\ndef prettify_graph(graph):\n    graph.set_title(\"Results of 500 slot machine pulls\")\n    # Make the y-axis begin at 0\n    graph.set_ylim(bottom=0)\n    # Label the y-axis\n    graph.set_ylabel(\"Balance\")\n    # Bonus: format the numbers on the y-axis as dollar amounts\n    # An array of the values displayed on the y-axis (150, 175, 200, etc.)\n    ticks = graph.get_yticks()\n    # Format those values into strings beginning with dollar sign\n    new_labels = ['${}'.format(int(amt)) for amt in ticks]\n    # Set the new labels\n    graph.set_yticklabels(new_labels)\n```"
          },
          "metadata": {
            "tags": []
          }
        }
      ]
    },
    {
      "cell_type": "markdown",
      "metadata": {
        "id": "TXFdJwbQwHNc",
        "colab_type": "text"
      },
      "source": [
        "## 2. <span title=\"Spicy\" style=\"color: coral\">🌶️🌶️</span>\n",
        "\n",
        "This is a very hard problem. Feel free to skip it if you are short on time:\n",
        "\n",
        "Luigi is trying to perform an analysis to determine the best items for winning races on the Mario Kart circuit. He has some data in the form of lists of dictionaries that look like...\n",
        "\n",
        "    [\n",
        "        {'name': 'Peach', 'items': ['green shell', 'banana', 'green shell',], 'finish': 3},\n",
        "        {'name': 'Bowser', 'items': ['green shell',], 'finish': 1},\n",
        "        # Sometimes the racer's name wasn't recorded\n",
        "        {'name': None, 'items': ['mushroom',], 'finish': 2},\n",
        "        {'name': 'Toad', 'items': ['green shell', 'mushroom'], 'finish': 1},\n",
        "    ]\n",
        "\n",
        "`'items'` is a list of all the power-up items the racer picked up in that race, and `'finish'` was their placement in the race (1 for first place, 3 for third, etc.).\n",
        "\n",
        "He wrote the function below to take a list like this and return a dictionary mapping each item to how many times it was picked up by first-place finishers."
      ]
    },
    {
      "cell_type": "code",
      "metadata": {
        "trusted": true,
        "id": "2vdlNh7PwHNd",
        "colab_type": "code",
        "colab": {}
      },
      "source": [
        "def best_items(racers):\n",
        "    \"\"\"Given a list of racer dictionaries, return a dictionary mapping items to the number\n",
        "    of times those items were picked up by racers who finished in first place.\n",
        "    \"\"\"\n",
        "    winner_item_counts = {}\n",
        "    for i in range(len(racers)):\n",
        "        # The i'th racer dictionary\n",
        "        racer = racers[i]\n",
        "        # We're only interested in racers who finished in first\n",
        "        if racer['finish'] == 1:\n",
        "            for i in racer['items']:\n",
        "                # Add one to the count for this item (adding it to the dict if necessary)\n",
        "                if i not in winner_item_counts:\n",
        "                    winner_item_counts[i] = 0\n",
        "                winner_item_counts[i] += 1\n",
        "\n",
        "        # Data quality issues :/ Print a warning about racers with no name set. We'll take care of it later.\n",
        "        if racer['name'] is None:\n",
        "            print(\"WARNING: Encountered racer with unknown name on iteration {}/{} (racer = {})\".format(\n",
        "                i+1, len(racers), racer['name'])\n",
        "                 )\n",
        "    return winner_item_counts"
      ],
      "execution_count": 0,
      "outputs": []
    },
    {
      "cell_type": "markdown",
      "metadata": {
        "id": "GpR99FUawHNf",
        "colab_type": "text"
      },
      "source": [
        "He tried it on a small example list above and it seemed to work correctly:"
      ]
    },
    {
      "cell_type": "code",
      "metadata": {
        "trusted": true,
        "id": "2xpD6xvlwHNg",
        "colab_type": "code",
        "colab": {},
        "outputId": "0167f139-6070-444f-b190-cfed986879be"
      },
      "source": [
        "sample = [\n",
        "    {'name': 'Peach', 'items': ['green shell', 'banana', 'green shell',], 'finish': 3},\n",
        "    {'name': 'Bowser', 'items': ['green shell',], 'finish': 1},\n",
        "    {'name': None, 'items': ['mushroom',], 'finish': 2},\n",
        "    {'name': 'Toad', 'items': ['green shell', 'mushroom'], 'finish': 1},\n",
        "]\n",
        "best_items(sample)"
      ],
      "execution_count": 0,
      "outputs": [
        {
          "output_type": "stream",
          "text": [
            "WARNING: Encountered racer with unknown name on iteration 3/4 (racer = None)\n"
          ],
          "name": "stdout"
        },
        {
          "output_type": "execute_result",
          "data": {
            "text/plain": [
              "{'green shell': 2, 'mushroom': 1}"
            ]
          },
          "metadata": {
            "tags": []
          },
          "execution_count": 8
        }
      ]
    },
    {
      "cell_type": "markdown",
      "metadata": {
        "id": "qJRpsOT9wHNj",
        "colab_type": "text"
      },
      "source": [
        "However, when he tried running it on his full dataset, the program crashed with a `TypeError`.\n",
        "\n",
        "Can you guess why? Try running the code cell below to see the error message Luigi is getting. Once you've identified the bug, fix it in the cell below (so that it runs without any errors).\n",
        "\n",
        "Hint: Luigi's bug is similar to one we encountered in the [tutorial](https://www.kaggle.com/colinmorris/working-with-external-libraries) when we talked about star imports."
      ]
    },
    {
      "cell_type": "code",
      "metadata": {
        "tags": [
          "raises-exception"
        ],
        "trusted": true,
        "id": "lLnI3vipwHNk",
        "colab_type": "code",
        "colab": {},
        "outputId": "fc9edbcc-6e1d-4cdf-f330-4c0a5e5dbb7f"
      },
      "source": [
        "# Import luigi's full dataset of race data\n",
        "from learntools.python.luigi_analysis import full_dataset\n",
        "\n",
        "# Fix me!\n",
        "def best_items(racers):\n",
        "    winner_item_counts = {}\n",
        "    for i in range(len(racers)):\n",
        "        # The i'th racer dictionary\n",
        "        racer = racers[i]\n",
        "        # We're only interested in racers who finished in first\n",
        "        if racer['finish'] == 1:\n",
        "            for item in racer['items']:\n",
        "                # Add one to the count for this item (adding it to the dict if necessary)\n",
        "                if item not in winner_item_counts:\n",
        "                    winner_item_counts[item] = 0\n",
        "                winner_item_counts[item] += 1\n",
        "\n",
        "        # Data quality issues :/ Print a warning about racers with no name set. We'll take care of it later.\n",
        "        if racer['name'] is None:\n",
        "            print(\"WARNING: Encountered racer with unknown name on iteration {}/{} (racer = {})\".format(\n",
        "                i+1, len(racers), racer['name'])\n",
        "                 )\n",
        "    return winner_item_counts\n",
        "\n",
        "# Try analyzing the imported full dataset\n",
        "best_items(full_dataset)"
      ],
      "execution_count": 0,
      "outputs": [
        {
          "output_type": "stream",
          "text": [
            "WARNING: Encountered racer with unknown name on iteration 4/8 (racer = None)\n"
          ],
          "name": "stdout"
        },
        {
          "output_type": "error",
          "ename": "TypeError",
          "evalue": "must be str, not int",
          "traceback": [
            "\u001b[0;31m---------------------------------------------------------------------------\u001b[0m",
            "\u001b[0;31mTypeError\u001b[0m                                 Traceback (most recent call last)",
            "\u001b[0;32m<ipython-input-9-918deaed7c2c>\u001b[0m in \u001b[0;36m<module>\u001b[0;34m\u001b[0m\n\u001b[1;32m     24\u001b[0m \u001b[0;34m\u001b[0m\u001b[0m\n\u001b[1;32m     25\u001b[0m \u001b[0;31m# Try analyzing the imported full dataset\u001b[0m\u001b[0;34m\u001b[0m\u001b[0;34m\u001b[0m\u001b[0m\n\u001b[0;32m---> 26\u001b[0;31m \u001b[0mbest_items\u001b[0m\u001b[0;34m(\u001b[0m\u001b[0mfull_dataset\u001b[0m\u001b[0;34m)\u001b[0m\u001b[0;34m\u001b[0m\u001b[0m\n\u001b[0m",
            "\u001b[0;32m<ipython-input-9-918deaed7c2c>\u001b[0m in \u001b[0;36mbest_items\u001b[0;34m(racers)\u001b[0m\n\u001b[1;32m     19\u001b[0m         \u001b[0;32mif\u001b[0m \u001b[0mracer\u001b[0m\u001b[0;34m[\u001b[0m\u001b[0;34m'name'\u001b[0m\u001b[0;34m]\u001b[0m \u001b[0;32mis\u001b[0m \u001b[0;32mNone\u001b[0m\u001b[0;34m:\u001b[0m\u001b[0;34m\u001b[0m\u001b[0m\n\u001b[1;32m     20\u001b[0m             print(\"WARNING: Encountered racer with unknown name on iteration {}/{} (racer = {})\".format(\n\u001b[0;32m---> 21\u001b[0;31m                 i+1, len(racers), racer['name'])\n\u001b[0m\u001b[1;32m     22\u001b[0m                  )\n\u001b[1;32m     23\u001b[0m     \u001b[0;32mreturn\u001b[0m \u001b[0mwinner_item_counts\u001b[0m\u001b[0;34m\u001b[0m\u001b[0m\n",
            "\u001b[0;31mTypeError\u001b[0m: must be str, not int"
          ]
        }
      ]
    },
    {
      "cell_type": "code",
      "metadata": {
        "trusted": true,
        "id": "wb46mm9RwHNn",
        "colab_type": "code",
        "colab": {},
        "outputId": "ef8b4d51-73dd-40bc-8ffe-a219ae447ea8"
      },
      "source": [
        "q2.hint()"
      ],
      "execution_count": 0,
      "outputs": [
        {
          "output_type": "display_data",
          "data": {
            "text/plain": [
              "<IPython.core.display.Javascript object>"
            ],
            "application/javascript": [
              "parent.postMessage({\"jupyterEvent\": \"custom.exercise_interaction\", \"data\": {\"interactionType\": 2, \"questionType\": 4, \"learnTutorialId\": 114, \"questionId\": \"2_LuigiAnalysis\", \"learnToolsVersion\": \"0.3.2\", \"valueTowardsCompletion\": 0.0, \"failureMessage\": \"\", \"exceptionClass\": \"\", \"trace\": \"\", \"outcomeType\": 4}}, \"*\")"
            ]
          },
          "metadata": {
            "tags": []
          }
        },
        {
          "output_type": "display_data",
          "data": {
            "text/plain": [
              "Hint: A couple things to consider:\n",
              "\n",
              "- What is the type of variable `i`?\n",
              "- What happens if you inspect the `full_dataset` list you imported? (Don't worry, it's not actually that big.) Can you find the racer that's causing the error?"
            ],
            "text/markdown": "<span style=\"color:#3366cc\">Hint:</span> A couple things to consider:\n\n- What is the type of variable `i`?\n- What happens if you inspect the `full_dataset` list you imported? (Don't worry, it's not actually that big.) Can you find the racer that's causing the error?"
          },
          "metadata": {
            "tags": []
          }
        }
      ]
    },
    {
      "cell_type": "code",
      "metadata": {
        "trusted": true,
        "id": "PWu3SR_WwHNp",
        "colab_type": "code",
        "colab": {},
        "outputId": "407b2f3d-a754-4e9c-8d96-3aced85eafc7"
      },
      "source": [
        "q2.solution()"
      ],
      "execution_count": 0,
      "outputs": [
        {
          "output_type": "display_data",
          "data": {
            "text/plain": [
              "<IPython.core.display.Javascript object>"
            ],
            "application/javascript": [
              "parent.postMessage({\"jupyterEvent\": \"custom.exercise_interaction\", \"data\": {\"interactionType\": 3, \"questionType\": 4, \"learnTutorialId\": 114, \"questionId\": \"2_LuigiAnalysis\", \"learnToolsVersion\": \"0.3.2\", \"valueTowardsCompletion\": 0.0, \"failureMessage\": \"\", \"exceptionClass\": \"\", \"trace\": \"\", \"outcomeType\": 4}}, \"*\")"
            ]
          },
          "metadata": {
            "tags": []
          }
        },
        {
          "output_type": "display_data",
          "data": {
            "text/plain": [
              "Solution: Luigi used the variable name `i` to represent each item in racer['items'].\n",
              "However, he also used `i` as the loop variable for the outer loop (`for i in range(len(racers))`).\n",
              "These i's are clobbering each other. This becomes a problem only if we encounter a racer\n",
              "with a finish of 1 and a name of `None`. If that happens, when we try to print the \"WARNING\" message,\n",
              "`i` refers to a string like \"green shell\", which python can't add to an integer, hence a `TypeError`.\n",
              "\n",
              "This is similar to the issue we saw when we imported * from `math` and `numpy`. They both contained variables called `log`, and the one we got when we tried to call it was the wrong one.\n",
              "\n",
              "We can fix this by using different loop variables for the inner and outer loops. `i` wasn't a very\n",
              "good variable name for the inner loop anyways. `for item in racer['items']` fixes the bug and is \n",
              "easier to read.\n",
              "\n",
              "Variable shadowing bugs like this don't come up super often, but when they do they can take an infuriating amount of time to diagnose!"
            ],
            "text/markdown": "<span style=\"color:#33cc99\">Solution:</span> Luigi used the variable name `i` to represent each item in racer['items'].\nHowever, he also used `i` as the loop variable for the outer loop (`for i in range(len(racers))`).\nThese i's are clobbering each other. This becomes a problem only if we encounter a racer\nwith a finish of 1 and a name of `None`. If that happens, when we try to print the \"WARNING\" message,\n`i` refers to a string like \"green shell\", which python can't add to an integer, hence a `TypeError`.\n\nThis is similar to the issue we saw when we imported * from `math` and `numpy`. They both contained variables called `log`, and the one we got when we tried to call it was the wrong one.\n\nWe can fix this by using different loop variables for the inner and outer loops. `i` wasn't a very\ngood variable name for the inner loop anyways. `for item in racer['items']` fixes the bug and is \neasier to read.\n\nVariable shadowing bugs like this don't come up super often, but when they do they can take an infuriating amount of time to diagnose!\n"
          },
          "metadata": {
            "tags": []
          }
        }
      ]
    },
    {
      "cell_type": "markdown",
      "metadata": {
        "id": "JZsPTTjtwHNs",
        "colab_type": "text"
      },
      "source": [
        "## 3. <span title=\"A bit spicy\" style=\"color: darkgreen \">🌶️</span>\n",
        "\n",
        "Suppose we wanted to create a new type to represent hands in blackjack. One thing we might want to do with this type is overload the comparison operators like `>` and `<=` so that we could use them to check whether one hand beats another. e.g. it'd be cool if we could do this:\n",
        "\n",
        "```python\n",
        ">>> hand1 = BlackjackHand(['K', 'A'])\n",
        ">>> hand2 = BlackjackHand(['7', '10', 'A'])\n",
        ">>> hand1 > hand2\n",
        "True\n",
        "```\n",
        "\n",
        "Well, we're not going to do all that in this question (defining custom classes is a bit beyond the scope of these lessons), but the code we're asking you to write in the function below is very similar to what we'd have to write if we were defining our own `BlackjackHand` class. (We'd put it in the `__gt__` magic method to define our custom behaviour for `>`.)\n",
        "\n",
        "Fill in the body of the `blackjack_hand_greater_than` function according to the docstring."
      ]
    },
    {
      "cell_type": "code",
      "metadata": {
        "trusted": true,
        "id": "TMVdzfwIwHNt",
        "colab_type": "code",
        "colab": {},
        "outputId": "0be5ddf3-00b2-491a-f2fc-7d150230d733"
      },
      "source": [
        "def blackjack_hand_greater_than(hand_1, hand_2):\n",
        "    \"\"\"\n",
        "    Return True if hand_1 beats hand_2, and False otherwise.\n",
        "    \n",
        "    In order for hand_1 to beat hand_2 the following must be true:\n",
        "    - The total of hand_1 must not exceed 21\n",
        "    - The total of hand_1 must exceed the total of hand_2 OR hand_2's total must exceed 21\n",
        "    \n",
        "    Hands are represented as a list of cards. Each card is represented by a string.\n",
        "    \n",
        "    When adding up a hand's total, cards with numbers count for that many points. Face\n",
        "    cards ('J', 'Q', and 'K') are worth 10 points. 'A' can count for 1 or 11.\n",
        "    \n",
        "    When determining a hand's total, you should try to count aces in the way that \n",
        "    maximizes the hand's total without going over 21. e.g. the total of ['A', 'A', '9'] is 21,\n",
        "    the total of ['A', 'A', '9', '3'] is 14.\n",
        "    \n",
        "    Examples:\n",
        "    >>> blackjack_hand_greater_than(['K'], ['3', '4'])\n",
        "    True\n",
        "    >>> blackjack_hand_greater_than(['K'], ['10'])\n",
        "    False\n",
        "    >>> blackjack_hand_greater_than(['K', 'K', '2'], ['3'])\n",
        "    False\n",
        "    \"\"\"\n",
        "    pass\n",
        "    def handtotal(hand):\n",
        "        total=0\n",
        "        a=0\n",
        "        for card in hand:\n",
        "            if card in ['J','Q','K']:\n",
        "                total+=10\n",
        "            elif card == 'A':\n",
        "                a+=1\n",
        "            else:\n",
        "                total+=int(card)\n",
        "        total+=a\n",
        "        if total+10<=21 and a>0:\n",
        "            total+=10\n",
        "            a-=1\n",
        "        return total\n",
        "    \n",
        "    def hand1_grater(hand_1,hand_2):\n",
        "        total1=handtotal(hand_1)\n",
        "        total2=handtotal(hand_2)\n",
        "        return total1<=21 and (total1>total2 or total2>21)\n",
        "    return hand1_grater(hand_1,hand_2)\n",
        "\n",
        "q3.check()"
      ],
      "execution_count": 0,
      "outputs": [
        {
          "output_type": "display_data",
          "data": {
            "text/plain": [
              "<IPython.core.display.Javascript object>"
            ],
            "application/javascript": [
              "parent.postMessage({\"jupyterEvent\": \"custom.exercise_interaction\", \"data\": {\"outcomeType\": 1, \"valueTowardsCompletion\": 1.0, \"interactionType\": 1, \"questionType\": 2, \"learnTutorialId\": 114, \"questionId\": \"3_BlackjackCmp\", \"learnToolsVersion\": \"0.3.2\", \"failureMessage\": \"\", \"exceptionClass\": \"\", \"trace\": \"\"}}, \"*\")"
            ]
          },
          "metadata": {
            "tags": []
          }
        },
        {
          "output_type": "display_data",
          "data": {
            "text/plain": [
              "Correct"
            ],
            "text/markdown": "<span style=\"color:#33cc33\">Correct</span>"
          },
          "metadata": {
            "tags": []
          }
        }
      ]
    },
    {
      "cell_type": "code",
      "metadata": {
        "trusted": true,
        "id": "3CPeiTwIwHNw",
        "colab_type": "code",
        "colab": {},
        "outputId": "f6dfbd1f-8c8e-422d-e978-2badac910af9"
      },
      "source": [
        "q3.hint()\n",
        "q3.solution()"
      ],
      "execution_count": 0,
      "outputs": [
        {
          "output_type": "display_data",
          "data": {
            "text/plain": [
              "<IPython.core.display.Javascript object>"
            ],
            "application/javascript": [
              "parent.postMessage({\"jupyterEvent\": \"custom.exercise_interaction\", \"data\": {\"interactionType\": 2, \"questionType\": 2, \"learnTutorialId\": 114, \"questionId\": \"3_BlackjackCmp\", \"learnToolsVersion\": \"0.3.2\", \"valueTowardsCompletion\": 0.0, \"failureMessage\": \"\", \"exceptionClass\": \"\", \"trace\": \"\", \"outcomeType\": 4}}, \"*\")"
            ]
          },
          "metadata": {
            "tags": []
          }
        },
        {
          "output_type": "display_data",
          "data": {
            "text/plain": [
              "Hint: This problem is a lot easier to solve if you define at least one 'helper' function. The logic for calculating a hand's total points is a good candidate for extracting into a helper function."
            ],
            "text/markdown": "<span style=\"color:#3366cc\">Hint:</span> This problem is a lot easier to solve if you define at least one 'helper' function. The logic for calculating a hand's total points is a good candidate for extracting into a helper function."
          },
          "metadata": {
            "tags": []
          }
        },
        {
          "output_type": "display_data",
          "data": {
            "text/plain": [
              "<IPython.core.display.Javascript object>"
            ],
            "application/javascript": [
              "parent.postMessage({\"jupyterEvent\": \"custom.exercise_interaction\", \"data\": {\"interactionType\": 3, \"questionType\": 2, \"learnTutorialId\": 114, \"questionId\": \"3_BlackjackCmp\", \"learnToolsVersion\": \"0.3.2\", \"valueTowardsCompletion\": 0.0, \"failureMessage\": \"\", \"exceptionClass\": \"\", \"trace\": \"\", \"outcomeType\": 4}}, \"*\")"
            ]
          },
          "metadata": {
            "tags": []
          }
        },
        {
          "output_type": "display_data",
          "data": {
            "text/plain": [
              "Solution: \n",
              "```python\n",
              "def hand_total(hand):\n",
              "    \"\"\"Helper function to calculate the total points of a blackjack hand.\n",
              "    \"\"\"\n",
              "    total = 0\n",
              "    # Count the number of aces and deal with how to apply them at the end.\n",
              "    aces = 0\n",
              "    for card in hand:\n",
              "        if card in ['J', 'Q', 'K']:\n",
              "            total += 10\n",
              "        elif card == 'A':\n",
              "            aces += 1\n",
              "        else:\n",
              "            # Convert number cards (e.g. '7') to ints\n",
              "            total += int(card)\n",
              "    # At this point, total is the sum of this hand's cards *not counting aces*.\n",
              "\n",
              "    # Add aces, counting them as 1 for now. This is the smallest total we can make from this hand\n",
              "    total += aces\n",
              "    # \"Upgrade\" aces from 1 to 11 as long as it helps us get closer to 21\n",
              "    # without busting\n",
              "    while total + 10 <= 21 and aces > 0:\n",
              "        # Upgrade an ace from 1 to 11\n",
              "        total += 10\n",
              "        aces -= 1\n",
              "    return total\n",
              "\n",
              "def blackjack_hand_greater_than(hand_1, hand_2):\n",
              "    total_1 = hand_total(hand_1)\n",
              "    total_2 = hand_total(hand_2)\n",
              "    return total_1 <= 21 and (total_1 > total_2 or total_2 > 21)\n",
              "```"
            ],
            "text/markdown": "<span style=\"color:#33cc99\">Solution:</span> \n```python\ndef hand_total(hand):\n    \"\"\"Helper function to calculate the total points of a blackjack hand.\n    \"\"\"\n    total = 0\n    # Count the number of aces and deal with how to apply them at the end.\n    aces = 0\n    for card in hand:\n        if card in ['J', 'Q', 'K']:\n            total += 10\n        elif card == 'A':\n            aces += 1\n        else:\n            # Convert number cards (e.g. '7') to ints\n            total += int(card)\n    # At this point, total is the sum of this hand's cards *not counting aces*.\n\n    # Add aces, counting them as 1 for now. This is the smallest total we can make from this hand\n    total += aces\n    # \"Upgrade\" aces from 1 to 11 as long as it helps us get closer to 21\n    # without busting\n    while total + 10 <= 21 and aces > 0:\n        # Upgrade an ace from 1 to 11\n        total += 10\n        aces -= 1\n    return total\n\ndef blackjack_hand_greater_than(hand_1, hand_2):\n    total_1 = hand_total(hand_1)\n    total_2 = hand_total(hand_2)\n    return total_1 <= 21 and (total_1 > total_2 or total_2 > 21)\n```"
          },
          "metadata": {
            "tags": []
          }
        }
      ]
    },
    {
      "cell_type": "markdown",
      "metadata": {
        "id": "c2SIYnYkwHNz",
        "colab_type": "text"
      },
      "source": [
        "## The end\n",
        "\n",
        "You've finished the Python micro-course. Congrats!\n",
        "\n",
        "As always, if you have any questions about these exercises, or anything else you encountered in the course, come to the [Learn Forum](https://kaggle.com/learn-forum).\n",
        "\n",
        "You probably didn't put in all these hours of learning Python just to play silly games of chance, right? If you're interested in applying your newfound Python skills to some data science tasks, check out some of our other lessons on [Kaggle Learn](https://www.kaggle.com/learn/overview). Most of them are in Python, including our courses on...\n",
        "\n",
        "- [Pandas for data manipulation](https://www.kaggle.com/learn/pandas)\n",
        "- [Machine learning with scikit-learn](https://www.kaggle.com/learn/machine-learning)\n",
        "- [Data visualization](https://www.kaggle.com/learn/data-visualisation)\n",
        "- [Deep learning with TensorFlow](https://www.kaggle.com/learn/deep-learning)\n",
        "\n",
        "Happy Pythoning!\n"
      ]
    },
    {
      "cell_type": "markdown",
      "metadata": {
        "id": "Jt3g_CGxwHN0",
        "colab_type": "text"
      },
      "source": [
        "---\n",
        "**[Python Micro-Course Home Page](https://www.kaggle.com/learn/python)**\n",
        "\n"
      ]
    }
  ]
}