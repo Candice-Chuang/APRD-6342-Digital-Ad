{
  "nbformat": 4,
  "nbformat_minor": 0,
  "metadata": {
    "kernelspec": {
      "display_name": "Python 3",
      "language": "python",
      "name": "python3"
    },
    "language_info": {
      "codemirror_mode": {
        "name": "ipython",
        "version": 3
      },
      "file_extension": ".py",
      "mimetype": "text/x-python",
      "name": "python",
      "nbconvert_exporter": "python",
      "pygments_lexer": "ipython3",
      "version": "3.6.5"
    },
    "learntools_metadata": {
      "lesson_index": 4,
      "type": "exercise"
    },
    "colab": {
      "name": "Exercise_ Loops and List Comprehensions_can.ipynb",
      "provenance": [],
      "include_colab_link": true
    }
  },
  "cells": [
    {
      "cell_type": "markdown",
      "metadata": {
        "id": "view-in-github",
        "colab_type": "text"
      },
      "source": [
        "<a href=\"https://colab.research.google.com/github/Candice-Chuang/APRD-6342-Digital-Ad/blob/master/Exercise__Loops_and_List_Comprehensions_can.ipynb\" target=\"_parent\"><img src=\"https://colab.research.google.com/assets/colab-badge.svg\" alt=\"Open In Colab\"/></a>"
      ]
    },
    {
      "cell_type": "markdown",
      "metadata": {
        "id": "zyq0fgZXvyCB",
        "colab_type": "text"
      },
      "source": [
        "**[Python Home Page](https://www.kaggle.com/learn/python)**\n",
        "\n",
        "---\n"
      ]
    },
    {
      "cell_type": "markdown",
      "metadata": {
        "id": "xJTSL1bKvyCF",
        "colab_type": "text"
      },
      "source": [
        "# Try It Yourself\n",
        "\n",
        "With all you've learned, you can start writing much more interesting programs. See if you can solve the problems below.\n",
        "\n",
        "As always, run the setup code below before working on the questions."
      ]
    },
    {
      "cell_type": "code",
      "metadata": {
        "trusted": true,
        "id": "ZQCFq_c-vyCG",
        "colab_type": "code",
        "colab": {},
        "outputId": "3554fe90-0a5f-462d-f28c-0361c8d22989"
      },
      "source": [
        "from learntools.core import binder; binder.bind(globals())\n",
        "from learntools.python.ex5 import *\n",
        "print('Setup complete.')"
      ],
      "execution_count": 0,
      "outputs": [
        {
          "output_type": "stream",
          "text": [
            "Setup complete.\n"
          ],
          "name": "stdout"
        }
      ]
    },
    {
      "cell_type": "markdown",
      "metadata": {
        "id": "ZCysImBZvyCM",
        "colab_type": "text"
      },
      "source": [
        "# Exercises"
      ]
    },
    {
      "cell_type": "markdown",
      "metadata": {
        "id": "aGDvumc8vyCO",
        "colab_type": "text"
      },
      "source": [
        "## 1.\n",
        "\n",
        "Have you ever felt debugging involved a bit of luck? The following program has a bug. Try to identify the bug and fix it."
      ]
    },
    {
      "cell_type": "code",
      "metadata": {
        "trusted": true,
        "id": "05rTRqH7vyCS",
        "colab_type": "code",
        "colab": {}
      },
      "source": [
        "def has_lucky_number(nums):\n",
        "    \"\"\"Return whether the given list of numbers is lucky. A lucky list contains\n",
        "    at least one number divisible by 7.\n",
        "    \"\"\"\n",
        "    for num in nums:\n",
        "        if num % 7 == 0:\n",
        "            return True\n",
        "        else:\n",
        "            return False"
      ],
      "execution_count": 0,
      "outputs": []
    },
    {
      "cell_type": "markdown",
      "metadata": {
        "id": "ShNjLekNvyCW",
        "colab_type": "text"
      },
      "source": [
        "Try to identify the bug and fix it in the cell below:"
      ]
    },
    {
      "cell_type": "code",
      "metadata": {
        "trusted": true,
        "id": "isSlW0UwvyCX",
        "colab_type": "code",
        "colab": {},
        "outputId": "f359a857-ee55-4991-ebe7-733093ccdfd1"
      },
      "source": [
        "def has_lucky_number(nums):\n",
        "    return any([num % 7 == 0 for num in nums])\n",
        "q1.check()"
      ],
      "execution_count": 0,
      "outputs": [
        {
          "output_type": "display_data",
          "data": {
            "text/plain": [
              "<IPython.core.display.Javascript object>"
            ],
            "application/javascript": [
              "parent.postMessage({\"jupyterEvent\": \"custom.exercise_interaction\", \"data\": {\"outcomeType\": 1, \"valueTowardsCompletion\": 0.3333333333333333, \"interactionType\": 1, \"questionType\": 2, \"learnTutorialId\": 110, \"questionId\": \"1_EarlyExitDebugging\", \"learnToolsVersion\": \"0.3.2\", \"failureMessage\": \"\", \"exceptionClass\": \"\", \"trace\": \"\"}}, \"*\")"
            ]
          },
          "metadata": {
            "tags": []
          }
        },
        {
          "output_type": "display_data",
          "data": {
            "text/plain": [
              "Correct: \n",
              "\n",
              "Remember that `return` causes a function to exit immediately. So our original implementation always ran for just one iteration. We can only return `False` if we've looked at every element of the list (and confirmed that none of them are lucky). Though we can return early if the answer is `True`:\n",
              "\n",
              "```python\n",
              "def has_lucky_number(nums):\n",
              "    for num in nums:\n",
              "        if num % 7 == 0:\n",
              "            return True\n",
              "    # We've exhausted the list without finding a lucky number\n",
              "    return False\n",
              "```\n",
              "\n",
              "Here's a one-line version using a list comprehension with Python's `any` function (you can read about what it does by calling `help(any)`):\n",
              "\n",
              "```python\n",
              "def has_lucky_number(nums):\n",
              "    return any([num % 7 == 0 for num in nums])\n",
              "```"
            ],
            "text/markdown": "<span style=\"color:#33cc33\">Correct:</span> \n\nRemember that `return` causes a function to exit immediately. So our original implementation always ran for just one iteration. We can only return `False` if we've looked at every element of the list (and confirmed that none of them are lucky). Though we can return early if the answer is `True`:\n\n```python\ndef has_lucky_number(nums):\n    for num in nums:\n        if num % 7 == 0:\n            return True\n    # We've exhausted the list without finding a lucky number\n    return False\n```\n\nHere's a one-line version using a list comprehension with Python's `any` function (you can read about what it does by calling `help(any)`):\n\n```python\ndef has_lucky_number(nums):\n    return any([num % 7 == 0 for num in nums])\n```\n"
          },
          "metadata": {
            "tags": []
          }
        }
      ]
    },
    {
      "cell_type": "code",
      "metadata": {
        "trusted": true,
        "id": "kVhWJdZLvyCb",
        "colab_type": "code",
        "colab": {}
      },
      "source": [
        "#q1.hint()\n",
        "q1.solution()"
      ],
      "execution_count": 0,
      "outputs": []
    },
    {
      "cell_type": "markdown",
      "metadata": {
        "id": "yEoDlCivvyCe",
        "colab_type": "text"
      },
      "source": [
        "## 2.\n",
        "\n",
        "### a.\n",
        "Look at the Python expression below. What do you think we'll get when we run it? When you've made your prediction, uncomment the code and run the cell to see if you were right."
      ]
    },
    {
      "cell_type": "code",
      "metadata": {
        "trusted": true,
        "id": "E4oObl1GvyCg",
        "colab_type": "code",
        "colab": {},
        "outputId": "9133a0ff-59c9-43d6-e4cf-db5e25daab43"
      },
      "source": [
        "[1, 2, 3, 4]>2\n",
        "[False,False,True,True]"
      ],
      "execution_count": 0,
      "outputs": [
        {
          "output_type": "error",
          "ename": "TypeError",
          "evalue": "'>' not supported between instances of 'list' and 'int'",
          "traceback": [
            "\u001b[0;31m---------------------------------------------------------------------------\u001b[0m",
            "\u001b[0;31mTypeError\u001b[0m                                 Traceback (most recent call last)",
            "\u001b[0;32m<ipython-input-4-f9984a50291d>\u001b[0m in \u001b[0;36m<module>\u001b[0;34m\u001b[0m\n\u001b[0;32m----> 1\u001b[0;31m \u001b[0;34m[\u001b[0m\u001b[0;36m1\u001b[0m\u001b[0;34m,\u001b[0m \u001b[0;36m2\u001b[0m\u001b[0;34m,\u001b[0m \u001b[0;36m3\u001b[0m\u001b[0;34m,\u001b[0m \u001b[0;36m4\u001b[0m\u001b[0;34m]\u001b[0m\u001b[0;34m>\u001b[0m\u001b[0;36m2\u001b[0m\u001b[0;34m\u001b[0m\u001b[0m\n\u001b[0m\u001b[1;32m      2\u001b[0m \u001b[0;34m[\u001b[0m\u001b[0;32mFalse\u001b[0m\u001b[0;34m,\u001b[0m\u001b[0;32mFalse\u001b[0m\u001b[0;34m,\u001b[0m\u001b[0;32mTrue\u001b[0m\u001b[0;34m,\u001b[0m\u001b[0;32mTrue\u001b[0m\u001b[0;34m]\u001b[0m\u001b[0;34m\u001b[0m\u001b[0m\n",
            "\u001b[0;31mTypeError\u001b[0m: '>' not supported between instances of 'list' and 'int'"
          ]
        }
      ]
    },
    {
      "cell_type": "markdown",
      "metadata": {
        "id": "0pUd8IAmvyCl",
        "colab_type": "text"
      },
      "source": [
        "### b\n",
        "R and Python have some libraries (like numpy and pandas) compare each element of the list to 2 (i.e. do an 'element-wise' comparison) and give us a list of booleans like `[False, False, True, True]`. \n",
        "\n",
        "Implement a function that reproduces this behaviour, returning a list of booleans corresponding to whether the corresponding element is greater than n.\n"
      ]
    },
    {
      "cell_type": "code",
      "metadata": {
        "trusted": true,
        "id": "boQJSFHOvyCn",
        "colab_type": "code",
        "colab": {},
        "outputId": "5395c018-efb3-4c2a-92f4-368726f56c5d"
      },
      "source": [
        "def elementwise_greater_than(L, thresh):\n",
        "    return [ele > thresh for ele in L]\n",
        "\n",
        "\n",
        "\n",
        "\n",
        "\n",
        "\n",
        "q2.check()"
      ],
      "execution_count": 0,
      "outputs": [
        {
          "output_type": "display_data",
          "data": {
            "text/plain": [
              "<IPython.core.display.Javascript object>"
            ],
            "application/javascript": [
              "parent.postMessage({\"jupyterEvent\": \"custom.exercise_interaction\", \"data\": {\"outcomeType\": 1, \"valueTowardsCompletion\": 0.3333333333333333, \"interactionType\": 1, \"questionType\": 2, \"learnTutorialId\": 110, \"questionId\": \"2_ElementWiseComparison\", \"learnToolsVersion\": \"0.3.2\", \"failureMessage\": \"\", \"exceptionClass\": \"\", \"trace\": \"\"}}, \"*\")"
            ]
          },
          "metadata": {
            "tags": []
          }
        },
        {
          "output_type": "display_data",
          "data": {
            "text/plain": [
              "Correct: \n",
              "\n",
              "Here's one solution:\n",
              "```python\n",
              "def elementwise_greater_than(L, thresh):\n",
              "    res = []\n",
              "    for ele in L:\n",
              "        res.append(ele > thresh)\n",
              "    return res\n",
              "```\n",
              "\n",
              "And here's the list comprehension version:\n",
              "```python\n",
              "def elementwise_greater_than(L, thresh):\n",
              "    return [ele > thresh for ele in L]\n",
              "```"
            ],
            "text/markdown": "<span style=\"color:#33cc33\">Correct:</span> \n\nHere's one solution:\n```python\ndef elementwise_greater_than(L, thresh):\n    res = []\n    for ele in L:\n        res.append(ele > thresh)\n    return res\n```\n\nAnd here's the list comprehension version:\n```python\ndef elementwise_greater_than(L, thresh):\n    return [ele > thresh for ele in L]\n```\n"
          },
          "metadata": {
            "tags": []
          }
        }
      ]
    },
    {
      "cell_type": "code",
      "metadata": {
        "trusted": true,
        "id": "Hs7OGnwSvyCt",
        "colab_type": "code",
        "colab": {},
        "outputId": "368ac38a-353a-4b83-dc77-eaa950a984a8"
      },
      "source": [
        "q2.solution()"
      ],
      "execution_count": 0,
      "outputs": [
        {
          "output_type": "display_data",
          "data": {
            "text/plain": [
              "<IPython.core.display.Javascript object>"
            ],
            "application/javascript": [
              "parent.postMessage({\"jupyterEvent\": \"custom.exercise_interaction\", \"data\": {\"interactionType\": 3, \"questionType\": 2, \"learnTutorialId\": 110, \"questionId\": \"2_ElementWiseComparison\", \"learnToolsVersion\": \"0.3.2\", \"valueTowardsCompletion\": 0.0, \"failureMessage\": \"\", \"exceptionClass\": \"\", \"trace\": \"\", \"outcomeType\": 4}}, \"*\")"
            ]
          },
          "metadata": {
            "tags": []
          }
        },
        {
          "output_type": "display_data",
          "data": {
            "text/plain": [
              "Solution: Here's one solution:\n",
              "```python\n",
              "def elementwise_greater_than(L, thresh):\n",
              "    res = []\n",
              "    for ele in L:\n",
              "        res.append(ele > thresh)\n",
              "    return res\n",
              "```\n",
              "\n",
              "And here's the list comprehension version:\n",
              "```python\n",
              "def elementwise_greater_than(L, thresh):\n",
              "    return [ele > thresh for ele in L]\n",
              "```"
            ],
            "text/markdown": "<span style=\"color:#33cc99\">Solution:</span> Here's one solution:\n```python\ndef elementwise_greater_than(L, thresh):\n    res = []\n    for ele in L:\n        res.append(ele > thresh)\n    return res\n```\n\nAnd here's the list comprehension version:\n```python\ndef elementwise_greater_than(L, thresh):\n    return [ele > thresh for ele in L]\n```\n"
          },
          "metadata": {
            "tags": []
          }
        }
      ]
    },
    {
      "cell_type": "markdown",
      "metadata": {
        "id": "oEqnFOVKvyCy",
        "colab_type": "text"
      },
      "source": [
        "## 3.\n",
        "\n",
        "Complete the body of the function below according to its docstring"
      ]
    },
    {
      "cell_type": "code",
      "metadata": {
        "trusted": true,
        "id": "KwKSCxNEvyCz",
        "colab_type": "code",
        "colab": {},
        "outputId": "1fbc69d3-cece-4754-f258-c6bf9a3dcd99"
      },
      "source": [
        "def menu_is_boring(meals):\n",
        "    # Iterate over all indices of the list, except the last one\n",
        "    for i in range(len(meals)-1):\n",
        "        if meals[i] == meals[i+1]:\n",
        "            return True\n",
        "    return False\n",
        "q3.check()"
      ],
      "execution_count": 0,
      "outputs": [
        {
          "output_type": "display_data",
          "data": {
            "text/plain": [
              "<IPython.core.display.Javascript object>"
            ],
            "application/javascript": [
              "parent.postMessage({\"jupyterEvent\": \"custom.exercise_interaction\", \"data\": {\"outcomeType\": 1, \"valueTowardsCompletion\": 0.3333333333333333, \"interactionType\": 1, \"questionType\": 2, \"learnTutorialId\": 110, \"questionId\": \"3_BoringMenu\", \"learnToolsVersion\": \"0.3.2\", \"failureMessage\": \"\", \"exceptionClass\": \"\", \"trace\": \"\"}}, \"*\")"
            ]
          },
          "metadata": {
            "tags": []
          }
        },
        {
          "output_type": "display_data",
          "data": {
            "text/plain": [
              "Correct: \n",
              "\n",
              "\n",
              "\n",
              "```python\n",
              "def menu_is_boring(meals):\n",
              "    # Iterate over all indices of the list, except the last one\n",
              "    for i in range(len(meals)-1):\n",
              "        if meals[i] == meals[i+1]:\n",
              "            return True\n",
              "    return False\n",
              "```\n",
              "\n",
              "The key to our solution is the call to `range`. `range(len(meals))` would give us all the indices of `meals`. If we had used that range, the last iteration of the loop would be comparing the last element to the element after it, which is... `IndexError`! `range(len(meals)-1)` gives us all the indices except the index of the last element.\n",
              "\n",
              "But don't we need to check if `meals` is empty? Turns out that `range(0) == range(-1)` - they're both empty. So if `meals` has length 0 or 1, we just won't do any iterations of our for loop."
            ],
            "text/markdown": "<span style=\"color:#33cc33\">Correct:</span> \n\n\n\n```python\ndef menu_is_boring(meals):\n    # Iterate over all indices of the list, except the last one\n    for i in range(len(meals)-1):\n        if meals[i] == meals[i+1]:\n            return True\n    return False\n```\n\nThe key to our solution is the call to `range`. `range(len(meals))` would give us all the indices of `meals`. If we had used that range, the last iteration of the loop would be comparing the last element to the element after it, which is... `IndexError`! `range(len(meals)-1)` gives us all the indices except the index of the last element.\n\nBut don't we need to check if `meals` is empty? Turns out that `range(0) == range(-1)` - they're both empty. So if `meals` has length 0 or 1, we just won't do any iterations of our for loop.\n"
          },
          "metadata": {
            "tags": []
          }
        }
      ]
    },
    {
      "cell_type": "code",
      "metadata": {
        "trusted": true,
        "id": "CAPXkgGavyC4",
        "colab_type": "code",
        "colab": {},
        "outputId": "300a4d0d-b20c-4820-90ed-e168144aaf71"
      },
      "source": [
        "#q3.hint()\n",
        "q3.solution()"
      ],
      "execution_count": 0,
      "outputs": [
        {
          "output_type": "display_data",
          "data": {
            "text/plain": [
              "<IPython.core.display.Javascript object>"
            ],
            "application/javascript": [
              "parent.postMessage({\"jupyterEvent\": \"custom.exercise_interaction\", \"data\": {\"interactionType\": 3, \"questionType\": 2, \"learnTutorialId\": 110, \"questionId\": \"3_BoringMenu\", \"learnToolsVersion\": \"0.3.2\", \"valueTowardsCompletion\": 0.0, \"failureMessage\": \"\", \"exceptionClass\": \"\", \"trace\": \"\", \"outcomeType\": 4}}, \"*\")"
            ]
          },
          "metadata": {
            "tags": []
          }
        },
        {
          "output_type": "display_data",
          "data": {
            "text/plain": [
              "Solution: \n",
              "\n",
              "```python\n",
              "def menu_is_boring(meals):\n",
              "    # Iterate over all indices of the list, except the last one\n",
              "    for i in range(len(meals)-1):\n",
              "        if meals[i] == meals[i+1]:\n",
              "            return True\n",
              "    return False\n",
              "```\n",
              "\n",
              "The key to our solution is the call to `range`. `range(len(meals))` would give us all the indices of `meals`. If we had used that range, the last iteration of the loop would be comparing the last element to the element after it, which is... `IndexError`! `range(len(meals)-1)` gives us all the indices except the index of the last element.\n",
              "\n",
              "But don't we need to check if `meals` is empty? Turns out that `range(0) == range(-1)` - they're both empty. So if `meals` has length 0 or 1, we just won't do any iterations of our for loop."
            ],
            "text/markdown": "<span style=\"color:#33cc99\">Solution:</span> \n\n```python\ndef menu_is_boring(meals):\n    # Iterate over all indices of the list, except the last one\n    for i in range(len(meals)-1):\n        if meals[i] == meals[i+1]:\n            return True\n    return False\n```\n\nThe key to our solution is the call to `range`. `range(len(meals))` would give us all the indices of `meals`. If we had used that range, the last iteration of the loop would be comparing the last element to the element after it, which is... `IndexError`! `range(len(meals)-1)` gives us all the indices except the index of the last element.\n\nBut don't we need to check if `meals` is empty? Turns out that `range(0) == range(-1)` - they're both empty. So if `meals` has length 0 or 1, we just won't do any iterations of our for loop.\n"
          },
          "metadata": {
            "tags": []
          }
        }
      ]
    },
    {
      "cell_type": "markdown",
      "metadata": {
        "id": "9Ay-XbJUvyC8",
        "colab_type": "text"
      },
      "source": [
        "## 4. <span title=\"A bit spicy\" style=\"color: darkgreen \">🌶️</span>\n",
        "\n",
        "Next to the Blackjack table, the Python Challenge Casino has a slot machine. You can get a result from the slot machine by calling `play_slot_machine()`. The number it returns is your winnings in dollars. Usually it returns 0.  But sometimes you'll get lucky and get a big payday. Try running it below:"
      ]
    },
    {
      "cell_type": "code",
      "metadata": {
        "trusted": true,
        "id": "aPwlQrAOvyC8",
        "colab_type": "code",
        "colab": {},
        "outputId": "41a5d7f4-2691-4297-d1df-b60b1dd4669d"
      },
      "source": [
        "play_slot_machine()"
      ],
      "execution_count": 0,
      "outputs": [
        {
          "output_type": "execute_result",
          "data": {
            "text/plain": [
              "0"
            ]
          },
          "metadata": {
            "tags": []
          },
          "execution_count": 9
        }
      ]
    },
    {
      "cell_type": "markdown",
      "metadata": {
        "id": "IUZCP57uvyDA",
        "colab_type": "text"
      },
      "source": [
        "By the way, did we mention that each play costs $1? Don't worry, we'll send you the bill later.\n",
        "\n",
        "On average, how much money can you expect to gain (or lose) every time you play the machine?  The casino keeps it a secret, but you can estimate the average value of each pull using a technique called the **Monte Carlo method**. To estimate the average outcome, we simulate the scenario many times, and return the average result.\n",
        "\n",
        "Complete the following function to calculate the average value per play of the slot machine."
      ]
    },
    {
      "cell_type": "code",
      "metadata": {
        "trusted": true,
        "id": "bEgzUt7mvyDC",
        "colab_type": "code",
        "colab": {},
        "outputId": "a0553495-bfe3-4f57-9680-749c04e57182"
      },
      "source": [
        "def estimate_average_slot_payout(n_runs):\n",
        "    \"\"\"Run the slot machine n_runs times and return the average net profit per run.\n",
        "    Example calls (note that return value is nondeterministic!):\n",
        "    >>> estimate_average_slot_payout(1)\n",
        "    -1\n",
        "    >>> estimate_average_slot_payout(1)\n",
        "    0.5\n",
        "    \"\"\"\n",
        "    pass\n",
        "    total=0\n",
        "    for i in range(n_runs):\n",
        "        total+=play_slot_machine()-1\n",
        "        return total/n_runs\n",
        "estimate_average_slot_payout(1)"
      ],
      "execution_count": 0,
      "outputs": [
        {
          "output_type": "execute_result",
          "data": {
            "text/plain": [
              "0.5"
            ]
          },
          "metadata": {
            "tags": []
          },
          "execution_count": 10
        }
      ]
    },
    {
      "cell_type": "markdown",
      "metadata": {
        "id": "o1r8iREhvyDG",
        "colab_type": "text"
      },
      "source": [
        "When you think you know the expected value per spin, uncomment the line below to see how close you were."
      ]
    },
    {
      "cell_type": "code",
      "metadata": {
        "trusted": true,
        "id": "MaWkX6m7vyDH",
        "colab_type": "code",
        "colab": {},
        "outputId": "9ea1b8fc-8694-4e0c-9a21-43ccb57d4790"
      },
      "source": [
        "q4.solution()"
      ],
      "execution_count": 0,
      "outputs": [
        {
          "output_type": "display_data",
          "data": {
            "text/plain": [
              "<IPython.core.display.Javascript object>"
            ],
            "application/javascript": [
              "parent.postMessage({\"jupyterEvent\": \"custom.exercise_interaction\", \"data\": {\"interactionType\": 3, \"questionType\": 4, \"learnTutorialId\": 110, \"questionId\": \"4_ExpectedSlotsPayout\", \"learnToolsVersion\": \"0.3.2\", \"valueTowardsCompletion\": 0.0, \"failureMessage\": \"\", \"exceptionClass\": \"\", \"trace\": \"\", \"outcomeType\": 4}}, \"*\")"
            ]
          },
          "metadata": {
            "tags": []
          }
        },
        {
          "output_type": "display_data",
          "data": {
            "text/plain": [
              "Solution: The exact expected value of one pull of the slot machine is 0.025 - i.e. a little more than 2 cents. See? Not every game in the Python Challenge Casino is rigged against the player!\n",
              "\n",
              "Because of the high variance of the outcome (there are some very rare high payout results that significantly affect the average) you might need to run your function with a very high value of `n_runs` to get a stable answer close to the true expectation.\n",
              "\n",
              "If your answer is way higher than 0.025, then maybe you forgot to account for the $1 cost per play?"
            ],
            "text/markdown": "<span style=\"color:#33cc99\">Solution:</span> The exact expected value of one pull of the slot machine is 0.025 - i.e. a little more than 2 cents. See? Not every game in the Python Challenge Casino is rigged against the player!\n\nBecause of the high variance of the outcome (there are some very rare high payout results that significantly affect the average) you might need to run your function with a very high value of `n_runs` to get a stable answer close to the true expectation.\n\nIf your answer is way higher than 0.025, then maybe you forgot to account for the $1 cost per play?"
          },
          "metadata": {
            "tags": []
          }
        }
      ]
    },
    {
      "cell_type": "markdown",
      "metadata": {
        "id": "NyjekrU9vyDL",
        "colab_type": "text"
      },
      "source": [
        "# Keep Going\n",
        "\n",
        "Many programmers report that dictionaries are their favorite data structure. You'll get to learn about them (as well as strings) in **[the next lesson](https://www.kaggle.com/colinmorris/strings-and-dictionaries)**."
      ]
    },
    {
      "cell_type": "markdown",
      "metadata": {
        "id": "7Qxw9cX1vyDM",
        "colab_type": "text"
      },
      "source": [
        "---\n",
        "**[Python Home Page](https://www.kaggle.com/learn/python)**\n",
        "\n",
        "\n",
        "\n",
        "\n",
        "\n",
        "*Have questions or comments? Visit the [Learn Discussion forum](https://www.kaggle.com/learn-forum) to chat with other Learners.*"
      ]
    }
  ]
}